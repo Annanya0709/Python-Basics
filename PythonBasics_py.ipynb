{
  "nbformat": 4,
  "nbformat_minor": 0,
  "metadata": {
    "colab": {
      "provenance": [],
      "authorship_tag": "ABX9TyNKT51c1n8O5tz1W8ZMM8cy",
      "include_colab_link": true
    },
    "kernelspec": {
      "name": "python3",
      "display_name": "Python 3"
    },
    "language_info": {
      "name": "python"
    }
  },
  "cells": [
    {
      "cell_type": "markdown",
      "metadata": {
        "id": "view-in-github",
        "colab_type": "text"
      },
      "source": [
        "<a href=\"https://colab.research.google.com/github/Annanya0709/Python-Basics/blob/main/PythonBasics_py.ipynb\" target=\"_parent\"><img src=\"https://colab.research.google.com/assets/colab-badge.svg\" alt=\"Open In Colab\"/></a>"
      ]
    },
    {
      "cell_type": "markdown",
      "source": [
        "# Python Variables"
      ],
      "metadata": {
        "id": "WyZmN3_f5Ulk"
      }
    },
    {
      "cell_type": "code",
      "execution_count": null,
      "metadata": {
        "colab": {
          "base_uri": "https://localhost:8080/"
        },
        "id": "DYT47OJUMxpw",
        "outputId": "0d4af258-3bd7-45b3-9de8-948767040fbd"
      },
      "outputs": [
        {
          "output_type": "stream",
          "name": "stdout",
          "text": [
            "54\n",
            "233.0\n",
            "54\n",
            "54, 233.0, 54\n"
          ]
        }
      ],
      "source": [
        "# ************* Working with variables ******************\n",
        "\n",
        "number = 54  # variable of type int\n",
        "name = 'Apple' # variable of type str\n",
        "\n",
        "number = int('54') # Casting str to int\n",
        "decimal = float(233) # Casting int to float\n",
        "name = str(number) # Casting int to str\n",
        "print(number)\n",
        "print(decimal)\n",
        "print(name)\n",
        "\n",
        "# print with sep parameter\n",
        "print(number, decimal, name, sep = ', ')"
      ]
    },
    {
      "cell_type": "code",
      "source": [
        "# Getting type of variable\n",
        "print(type(number))\n",
        "print(type(decimal))\n",
        "print(type(name))"
      ],
      "metadata": {
        "colab": {
          "base_uri": "https://localhost:8080/"
        },
        "id": "xwGktE0ybvhr",
        "outputId": "d36509f7-0fbb-4eb2-80e8-38889e450e2a"
      },
      "execution_count": null,
      "outputs": [
        {
          "output_type": "stream",
          "name": "stdout",
          "text": [
            "<class 'int'>\n",
            "<class 'float'>\n",
            "<class 'str'>\n"
          ]
        }
      ]
    },
    {
      "cell_type": "code",
      "source": [
        "# Assigning multiple values\n",
        "fruit1, fruit2, fruit3 = \"Orange\", \"Banana\", \"Cherry\"\n",
        "print(fruit1)\n",
        "print(fruit2)\n",
        "print(fruit3)"
      ],
      "metadata": {
        "colab": {
          "base_uri": "https://localhost:8080/"
        },
        "id": "fgAD0wmlb1Ov",
        "outputId": "cccb0eb9-932b-4328-9a47-1718622c5ab2"
      },
      "execution_count": null,
      "outputs": [
        {
          "output_type": "stream",
          "name": "stdout",
          "text": [
            "Orange\n",
            "Banana\n",
            "Cherry\n"
          ]
        }
      ]
    },
    {
      "cell_type": "markdown",
      "source": [
        "# Python Datatypes\n",
        "\n",
        "\n",
        "*   Numeric -> int, float, complex\n",
        "*   String  -> str\n",
        "*   Sequence -> list, tuple, range\n",
        "*   Mapping -> dict\n",
        "*   Boolean -> bool\n",
        "*   Set  -> set, frozenset\n",
        "\n",
        "\n",
        "\n"
      ],
      "metadata": {
        "id": "AUeM7pp05hSl"
      }
    },
    {
      "cell_type": "markdown",
      "source": [
        "Numeric"
      ],
      "metadata": {
        "id": "j5IE2QCo6BQ1"
      }
    },
    {
      "cell_type": "code",
      "source": [
        "# Numeric \n",
        "\n",
        "number1 = 5\n",
        "number2 = 2.0\n",
        "number3 = 1+2j\n",
        "\n",
        "# determines the type of variable\n",
        "print(number1, 'is of type', type(number1))\n",
        "print(number2, 'is of type', type(number2))\n",
        "\n",
        "# isinstance() return boolean value if the object is an instance of class\n",
        "print(number3, 'is a complex number?', isinstance(1+2j,complex))"
      ],
      "metadata": {
        "colab": {
          "base_uri": "https://localhost:8080/"
        },
        "id": "SRcOM7FFe9gP",
        "outputId": "18926be3-27e1-4357-f8bb-61b3888d35a7"
      },
      "execution_count": null,
      "outputs": [
        {
          "output_type": "stream",
          "name": "stdout",
          "text": [
            "5 is of type <class 'int'>\n",
            "2.0 is of type <class 'float'>\n",
            "(1+2j) is a complex number? True\n"
          ]
        }
      ]
    },
    {
      "cell_type": "markdown",
      "source": [
        "List"
      ],
      "metadata": {
        "id": "XRkxjGv-6FxJ"
      }
    },
    {
      "cell_type": "code",
      "source": [
        "# List\n",
        "\n",
        "languages = [\"Swift\", \"Java\", \"Python\"]\n",
        "\n",
        "# access element at index 0\n",
        "print(languages[0])  \n",
        "\n",
        "# access element at index 2\n",
        "print(languages[2]) \n",
        "\n"
      ],
      "metadata": {
        "colab": {
          "base_uri": "https://localhost:8080/"
        },
        "id": "7MhGrE5wfDq7",
        "outputId": "bfba8cad-e198-40c2-c08f-b3ce1702cf8e"
      },
      "execution_count": null,
      "outputs": [
        {
          "output_type": "stream",
          "name": "stdout",
          "text": [
            "Swift\n",
            "Python\n"
          ]
        }
      ]
    },
    {
      "cell_type": "markdown",
      "source": [
        "Tuple"
      ],
      "metadata": {
        "id": "Vu1BTmZc6HE8"
      }
    },
    {
      "cell_type": "code",
      "source": [
        "# Tuple\n",
        "\n",
        "product = ('Microsoft', 'Xbox', 499.99)\n",
        "\n",
        "# access element using index\n",
        "print(product[0])  \n",
        "print(product[1])  \n",
        "print(product[2])"
      ],
      "metadata": {
        "colab": {
          "base_uri": "https://localhost:8080/"
        },
        "id": "r0K83d38fUWH",
        "outputId": "95dabe06-c970-406f-8fb5-f4782c0caf35"
      },
      "execution_count": null,
      "outputs": [
        {
          "output_type": "stream",
          "name": "stdout",
          "text": [
            "Microsoft\n",
            "Xbox\n",
            "499.99\n"
          ]
        }
      ]
    },
    {
      "cell_type": "markdown",
      "source": [
        "String"
      ],
      "metadata": {
        "id": "YIffzp_W6I5N"
      }
    },
    {
      "cell_type": "code",
      "source": [
        "# String\n",
        "\n",
        "name = 'John'\n",
        "\n",
        "# Multiline String\n",
        "address = '''Choudhary House, Sudhama Nagar,\n",
        "Udaipur, Rajasthan'''\n",
        "\n",
        "print(name)  \n",
        "print(address)"
      ],
      "metadata": {
        "colab": {
          "base_uri": "https://localhost:8080/"
        },
        "id": "-e4qNVdifp3S",
        "outputId": "66702578-baef-4168-d52c-adf4c2c0f55e"
      },
      "execution_count": null,
      "outputs": [
        {
          "output_type": "stream",
          "name": "stdout",
          "text": [
            "John\n",
            "Choudhary House, Sudhama Nagar,\n",
            "Udaipur, Rajasthan\n"
          ]
        }
      ]
    },
    {
      "cell_type": "markdown",
      "source": [
        "Set"
      ],
      "metadata": {
        "id": "y_MkNOo36KVd"
      }
    },
    {
      "cell_type": "code",
      "source": [
        "# Set\n",
        "\n",
        "student_id = {112, 114, 116, 118, 115}\n",
        "\n",
        "print(student_id)\n",
        "\n",
        "# display type of student_id\n",
        "print(type(student_id))"
      ],
      "metadata": {
        "colab": {
          "base_uri": "https://localhost:8080/"
        },
        "id": "mGossMg0fs8O",
        "outputId": "81f9415d-b3ef-4077-c9ba-24ceaf728b46"
      },
      "execution_count": null,
      "outputs": [
        {
          "output_type": "stream",
          "name": "stdout",
          "text": [
            "{112, 114, 115, 116, 118}\n",
            "<class 'set'>\n"
          ]
        }
      ]
    },
    {
      "cell_type": "markdown",
      "source": [
        "Dictionary"
      ],
      "metadata": {
        "id": "s_Ja_mMC6L48"
      }
    },
    {
      "cell_type": "code",
      "source": [
        "# Dictionary\n",
        "\n",
        "capital_city = {'Nepal': 'Kathmandu', 'Italy': 'Rome', 'England': 'London'}\n",
        "\n",
        "print(capital_city)\n",
        "\n",
        "# print according to cities\n",
        "print(capital_city['Nepal'])\n",
        "print(capital_city['Italy'])"
      ],
      "metadata": {
        "colab": {
          "base_uri": "https://localhost:8080/"
        },
        "id": "w9EzfNbggHHC",
        "outputId": "a2f744df-5c66-4869-d355-77c88fed77c8"
      },
      "execution_count": null,
      "outputs": [
        {
          "output_type": "stream",
          "name": "stdout",
          "text": [
            "{'Nepal': 'Kathmandu', 'Italy': 'Rome', 'England': 'London'}\n",
            "Kathmandu\n",
            "Rome\n"
          ]
        }
      ]
    },
    {
      "cell_type": "markdown",
      "source": [
        "# Flow Control"
      ],
      "metadata": {
        "id": "6kHNAYAg5r-w"
      }
    },
    {
      "cell_type": "markdown",
      "source": [
        "***if statement***"
      ],
      "metadata": {
        "id": "G7Iu5iEn6P_F"
      }
    },
    {
      "cell_type": "code",
      "source": [
        "# if test expression:\n",
        "#     statement(s)\n",
        "\n",
        "num = 3\n",
        "if num > 0:\n",
        "    print(num, \"is a positive number.\")"
      ],
      "metadata": {
        "colab": {
          "base_uri": "https://localhost:8080/"
        },
        "id": "xR4u47Agl5hE",
        "outputId": "8b348fea-6434-408d-9eca-7dff3f7c3f40"
      },
      "execution_count": null,
      "outputs": [
        {
          "output_type": "stream",
          "name": "stdout",
          "text": [
            "3 is a positive number.\n"
          ]
        }
      ]
    },
    {
      "cell_type": "markdown",
      "source": [
        "if else statement "
      ],
      "metadata": {
        "id": "DEn_665x6Scn"
      }
    },
    {
      "cell_type": "code",
      "source": [
        "\n",
        "num = 6\n",
        "if num >= 0:\n",
        "    print(\"Positive or Zero\")\n",
        "else:\n",
        "    print(\"Negative number\")"
      ],
      "metadata": {
        "colab": {
          "base_uri": "https://localhost:8080/"
        },
        "id": "XitFCzyZmHPT",
        "outputId": "7d9ed077-5801-438b-8881-21d64121c732"
      },
      "execution_count": null,
      "outputs": [
        {
          "output_type": "stream",
          "name": "stdout",
          "text": [
            "Positive or Zero\n"
          ]
        }
      ]
    },
    {
      "cell_type": "markdown",
      "source": [
        "elif statement"
      ],
      "metadata": {
        "id": "uwOvOyQ_6XMy"
      }
    },
    {
      "cell_type": "code",
      "source": [
        "\n",
        "num = -3\n",
        "\n",
        "if num > 0:\n",
        "    print(\"Positive number\")\n",
        "elif num == 0:\n",
        "    print(\"Zero\")\n",
        "else:\n",
        "    print(\"Negative number\")"
      ],
      "metadata": {
        "colab": {
          "base_uri": "https://localhost:8080/"
        },
        "id": "7eLKqFpKmVGe",
        "outputId": "e9b60c77-2968-4446-b5ae-3a6526b530f9"
      },
      "execution_count": null,
      "outputs": [
        {
          "output_type": "stream",
          "name": "stdout",
          "text": [
            "Negative number\n"
          ]
        }
      ]
    },
    {
      "cell_type": "markdown",
      "source": [
        "Nested if statement"
      ],
      "metadata": {
        "id": "WQI8xPkZ6agw"
      }
    },
    {
      "cell_type": "code",
      "source": [
        "\n",
        "num = 5\n",
        "if num >= 0:\n",
        "    if num == 0:\n",
        "        print(\"Zero\")\n",
        "    else:\n",
        "        print(\"Positive number\")\n",
        "else:\n",
        "    print(\"Negative number\")"
      ],
      "metadata": {
        "colab": {
          "base_uri": "https://localhost:8080/"
        },
        "id": "TkiYJamxmgFV",
        "outputId": "db2b5bd1-2ff6-4a63-c288-054cbd327603"
      },
      "execution_count": null,
      "outputs": [
        {
          "output_type": "stream",
          "name": "stdout",
          "text": [
            "Positive number\n"
          ]
        }
      ]
    },
    {
      "cell_type": "markdown",
      "source": [
        "# for loop"
      ],
      "metadata": {
        "id": "U2WRDyC45wGn"
      }
    },
    {
      "cell_type": "code",
      "source": [
        "# for loop \n",
        "\n",
        "numbers = [6, 5, 3, 8, 4, 2, 5, 4, 11]\n",
        "\n",
        "# variable to store the sum\n",
        "sum = 0\n",
        "\n",
        "# iterate over the list\n",
        "for val in numbers:\n",
        "    sum = sum+val\n",
        "\n",
        "print(\"The sum is\", sum)"
      ],
      "metadata": {
        "colab": {
          "base_uri": "https://localhost:8080/"
        },
        "id": "Ul9zTw80mvbP",
        "outputId": "deb60875-f5b9-4656-fb62-3ca5b6cd82a8"
      },
      "execution_count": null,
      "outputs": [
        {
          "output_type": "stream",
          "name": "stdout",
          "text": [
            "The sum is 48\n"
          ]
        }
      ]
    },
    {
      "cell_type": "markdown",
      "source": [
        "for loop with else"
      ],
      "metadata": {
        "id": "dD631rUU6ea7"
      }
    },
    {
      "cell_type": "code",
      "source": [
        "\n",
        "digits = [0, 1, 5]\n",
        "\n",
        "for digit in digits:\n",
        "    print(digit)\n",
        "else:\n",
        "    print(\"No items left.\")"
      ],
      "metadata": {
        "colab": {
          "base_uri": "https://localhost:8080/"
        },
        "id": "ECm8GYP_nDOq",
        "outputId": "80295236-f12c-443b-bc58-8a4fa937c816"
      },
      "execution_count": null,
      "outputs": [
        {
          "output_type": "stream",
          "name": "stdout",
          "text": [
            "0\n",
            "1\n",
            "5\n",
            "No items left.\n"
          ]
        }
      ]
    },
    {
      "cell_type": "markdown",
      "source": [
        "# while loop"
      ],
      "metadata": {
        "id": "bIEAHvZF5zrT"
      }
    },
    {
      "cell_type": "code",
      "source": [
        "\n",
        "end_digit = 5\n",
        "sum = 0\n",
        "counter = 1\n",
        "\n",
        "while  counter <= end_digit:\n",
        "    sum = sum + counter\n",
        "    counter = counter + 1    # update counter\n",
        "\n",
        "# print the sum\n",
        "print(\"The sum is\", sum)\n"
      ],
      "metadata": {
        "colab": {
          "base_uri": "https://localhost:8080/"
        },
        "id": "ofuVfBKenP4e",
        "outputId": "6a8c83fd-16a3-4866-9d6e-fcd95da54f82"
      },
      "execution_count": null,
      "outputs": [
        {
          "output_type": "stream",
          "name": "stdout",
          "text": [
            "The sum is 15\n"
          ]
        }
      ]
    },
    {
      "cell_type": "markdown",
      "source": [
        "while loop with else block"
      ],
      "metadata": {
        "id": "0jhrSDTt6jZi"
      }
    },
    {
      "cell_type": "code",
      "source": [
        "\n",
        "counter = 0\n",
        "\n",
        "while counter < 3:\n",
        "    print(\"Inside loop\")\n",
        "    counter = counter + 1\n",
        "else:\n",
        "    print(\"Inside else\") # runs once when the condition is no longer true"
      ],
      "metadata": {
        "colab": {
          "base_uri": "https://localhost:8080/"
        },
        "id": "ZkPYwtvcn4px",
        "outputId": "c2c74d8e-98ca-47a5-c0fd-421311bd02fe"
      },
      "execution_count": null,
      "outputs": [
        {
          "output_type": "stream",
          "name": "stdout",
          "text": [
            "Inside loop\n",
            "Inside loop\n",
            "Inside loop\n",
            "Inside else\n"
          ]
        }
      ]
    },
    {
      "cell_type": "code",
      "source": [
        "# break statement inside the loop\n",
        "\n",
        "for val in \"string\":\n",
        "    if val == \"i\":\n",
        "        break\n",
        "    print(val)\n",
        "\n",
        "print(\"The end\")\n"
      ],
      "metadata": {
        "id": "uHK1b8lDoWBt"
      },
      "execution_count": null,
      "outputs": []
    },
    {
      "cell_type": "markdown",
      "source": [
        "# Functions"
      ],
      "metadata": {
        "id": "ZOZ8QbjJ1Nv4"
      }
    },
    {
      "cell_type": "code",
      "source": [
        "\n",
        "def greeting(name):\n",
        "    \"\"\"\n",
        "    Docstring\n",
        "    This function greets to\n",
        "    the person passed in as\n",
        "    a parameter\n",
        "    \"\"\"\n",
        "    print(\"Hello, \" + name + \". Good morning!\")\n",
        "\n",
        "# Calling a function\n",
        "greeting('Paul')\n"
      ],
      "metadata": {
        "colab": {
          "base_uri": "https://localhost:8080/"
        },
        "id": "eCw-FijSoV57",
        "outputId": "e258830e-e4d6-4031-ec4b-fd8b4d84bd64"
      },
      "execution_count": null,
      "outputs": [
        {
          "output_type": "stream",
          "name": "stdout",
          "text": [
            "Hello, Paul. Good morning!\n"
          ]
        }
      ]
    },
    {
      "cell_type": "markdown",
      "source": [
        "Understanding arguments and parameters"
      ],
      "metadata": {
        "id": "wxKQcoD16ptv"
      }
    },
    {
      "cell_type": "code",
      "source": [
        "\n",
        "# parameter: the variable listed inside the parentheses in the function definition.\n",
        "# argument: the value that is sent to the function when it is called.\n",
        "\n",
        "def display(fname, lname):  # parameters\n",
        "  print(fname + \" \" + lname)\n",
        "\n",
        "# The number of arguments and parameters must be equal\n",
        "display(\"Annanya\", \"Vijay\") # Arguments"
      ],
      "metadata": {
        "colab": {
          "base_uri": "https://localhost:8080/"
        },
        "id": "Uxe8WV_eoWEM",
        "outputId": "18d94dcf-acd6-4666-d54f-f82c8132340e"
      },
      "execution_count": null,
      "outputs": [
        {
          "output_type": "stream",
          "name": "stdout",
          "text": [
            "Annanya Vijay\n"
          ]
        }
      ]
    },
    {
      "cell_type": "code",
      "source": [
        "# return values \n",
        "\n",
        "def absolute_value(num):\n",
        "    \"\"\"This function returns the absolute\n",
        "    value of the entered number\"\"\"\n",
        "\n",
        "    if num >= 0:\n",
        "        return num\n",
        "    else:\n",
        "        return -num\n",
        "\n",
        "\n",
        "print(absolute_value(2))\n",
        "print(absolute_value(-4))"
      ],
      "metadata": {
        "colab": {
          "base_uri": "https://localhost:8080/"
        },
        "id": "IRBrdgmSzIUF",
        "outputId": "560a43b5-fbd1-4f6b-9516-48d6c37aca36"
      },
      "execution_count": null,
      "outputs": [
        {
          "output_type": "stream",
          "name": "stdout",
          "text": [
            "2\n",
            "4\n"
          ]
        }
      ]
    },
    {
      "cell_type": "markdown",
      "source": [
        "Arbitrary Arguments, *args"
      ],
      "metadata": {
        "id": "q4-RkHh6BGun"
      }
    },
    {
      "cell_type": "code",
      "source": [
        "# Arbitrary Arguments (*args)\n",
        "# When we dont know the exact number of arguments use args\n",
        "\n",
        "def display_names(*names):\n",
        "    \"\"\"This function prints all\n",
        "    the person in the names tuple.\"\"\"\n",
        "\n",
        "    for name in names:\n",
        "        print(name)\n",
        "\n",
        "\n",
        "display_names(\"Monica\", \"Luke\", \"Steve\", \"John\")\n"
      ],
      "metadata": {
        "colab": {
          "base_uri": "https://localhost:8080/"
        },
        "id": "pTwX-ZberHJ5",
        "outputId": "2586db63-fd61-4b8e-8462-ce9209160ab1"
      },
      "execution_count": null,
      "outputs": [
        {
          "output_type": "stream",
          "name": "stdout",
          "text": [
            "Monica\n",
            "Luke\n",
            "Steve\n",
            "John\n"
          ]
        }
      ]
    },
    {
      "cell_type": "markdown",
      "source": [
        "Keyword Arguments"
      ],
      "metadata": {
        "id": "HSr2zqulBDjH"
      }
    },
    {
      "cell_type": "code",
      "source": [
        "# Keyword Arguments\n",
        "\n",
        "def youngest_child(child3, child2, child1):\n",
        "  print(\"The youngest child is \" + child3)\n",
        "\n",
        "youngest_child(child1 = \"Emil\", child2 = \"Tobias\", child3 = \"Linus\")"
      ],
      "metadata": {
        "id": "rnzo-PRSAyrv"
      },
      "execution_count": null,
      "outputs": []
    },
    {
      "cell_type": "markdown",
      "source": [
        "Arbitrary Keyword Arguments, **kwargs"
      ],
      "metadata": {
        "id": "KaLG1L43BdmL"
      }
    },
    {
      "cell_type": "code",
      "source": [
        "def my_function(**kid):\n",
        "  print(\"His last name is \" + kid[\"lname\"])\n",
        "\n",
        "my_function(fname = \"Tobias\", lname = \"Refsnes\")"
      ],
      "metadata": {
        "id": "2Glz94Z2BYx_"
      },
      "execution_count": null,
      "outputs": []
    },
    {
      "cell_type": "markdown",
      "source": [
        "Default parameter value"
      ],
      "metadata": {
        "id": "F0WQ0hVq7uIs"
      }
    },
    {
      "cell_type": "code",
      "source": [
        "# Default parameter value\n",
        "\n",
        "def default_parameter(country = \"Norway\"):\n",
        "  print(\"I am from \" + country)\n",
        "\n",
        "default_parameter(\"Sweden\")\n",
        "default_parameter(\"India\")\n",
        "default_parameter()\n",
        "default_parameter(\"Brazil\")"
      ],
      "metadata": {
        "colab": {
          "base_uri": "https://localhost:8080/"
        },
        "id": "xCPBKBm4sE1_",
        "outputId": "ffc07c87-e74e-45f1-c1f2-5592b265fa86"
      },
      "execution_count": null,
      "outputs": [
        {
          "output_type": "stream",
          "name": "stdout",
          "text": [
            "I am from Sweden\n",
            "I am from India\n",
            "I am from Norway\n",
            "I am from Brazil\n"
          ]
        }
      ]
    },
    {
      "cell_type": "markdown",
      "source": [
        "Recursive Functions"
      ],
      "metadata": {
        "id": "0vDSHZUy70uO"
      }
    },
    {
      "cell_type": "code",
      "source": [
        "# Recursive Functions\n",
        "\n",
        "def factorial(x):\n",
        "    \"\"\"This is a recursive function\n",
        "    to find the factorial of an integer\"\"\"\n",
        "\n",
        "    if x == 1:\n",
        "        return 1\n",
        "    else:\n",
        "        return (x * factorial(x-1))\n",
        "\n",
        "\n",
        "num = 5\n",
        "print(\"The factorial of\", num, \"is\", factorial(num))"
      ],
      "metadata": {
        "colab": {
          "base_uri": "https://localhost:8080/"
        },
        "id": "DYRK8SYp0fGR",
        "outputId": "525dcfd1-0f85-41cf-be7c-6cd89ff592d6"
      },
      "execution_count": null,
      "outputs": [
        {
          "output_type": "stream",
          "name": "stdout",
          "text": [
            "The factorial of 5 is 120\n"
          ]
        }
      ]
    },
    {
      "cell_type": "markdown",
      "source": [
        "Lambda Functions"
      ],
      "metadata": {
        "id": "eENSxORN1g4R"
      }
    },
    {
      "cell_type": "code",
      "source": [
        "double = lambda x: x * 2\n",
        "\n",
        "\"\"\"Lambda function to double\n",
        "the value of a number\"\"\"\n",
        "\n",
        "print(double(5))\n"
      ],
      "metadata": {
        "colab": {
          "base_uri": "https://localhost:8080/"
        },
        "id": "QXlnWSMC1oM_",
        "outputId": "a86bb4fe-aa97-4022-97ea-b376381635c5"
      },
      "execution_count": null,
      "outputs": [
        {
          "output_type": "stream",
          "name": "stdout",
          "text": [
            "10\n"
          ]
        }
      ]
    },
    {
      "cell_type": "markdown",
      "source": [
        "\n",
        "\n",
        "# Python class & objects\n",
        "\n"
      ],
      "metadata": {
        "id": "7QsezFox2nzW"
      }
    },
    {
      "cell_type": "code",
      "source": [
        "# Creating a class named Parrot\n",
        "class Person:\n",
        "\n",
        "    # class attribute\n",
        "    species = \"human\"\n",
        "\n",
        "    # instance attribute\n",
        "    def __init__(self, name, age):\n",
        "        self.name = name\n",
        "        self.age = age\n",
        "\n",
        "# instantiate the Parrot class\n",
        "teacher = Person(\"Shreya\", 40)\n",
        "parent = Person(\"Jessy\", 45)\n",
        "\n",
        "# access the class attributes\n",
        "print(\"Teacher is a {}\".format(teacher.__class__.species))\n",
        "print(\"Parent is also a {}\".format(parent.__class__.species))\n",
        "\n",
        "# access the instance attributes\n",
        "print(\"{} is {} years old\".format( teacher.name, teacher.age))\n",
        "print(\"{} is {} years old\".format( parent.name, parent.age))\n"
      ],
      "metadata": {
        "colab": {
          "base_uri": "https://localhost:8080/"
        },
        "id": "szLrkWDC2on3",
        "outputId": "e9dff14d-8519-4689-ee2b-34703bfeb111"
      },
      "execution_count": null,
      "outputs": [
        {
          "output_type": "stream",
          "name": "stdout",
          "text": [
            "Teacher is a human\n",
            "Parent is also a human\n",
            "Shreya is 40 years old\n",
            "Jessy is 45 years old\n"
          ]
        }
      ]
    },
    {
      "cell_type": "markdown",
      "source": [
        "**Class methods**"
      ],
      "metadata": {
        "id": "m5T2tLnN78iw"
      }
    },
    {
      "cell_type": "code",
      "source": [
        "# Class Methods\n",
        "\n",
        "class Parrot:\n",
        "    \n",
        "    # instance attributes\n",
        "    def __init__(self, name, age):\n",
        "        self.name = name\n",
        "        self.age = age\n",
        "    \n",
        "    # instance method\n",
        "    def sing(self, song):\n",
        "        return \"{} sings {}\".format(self.name, song)\n",
        "\n",
        "    def dance(self):\n",
        "        return \"{} is now dancing\".format(self.name)\n",
        "\n",
        "# instantiate the object\n",
        "blu = Parrot(\"Blu\", 10)\n",
        "\n",
        "# call our instance methods\n",
        "print(blu.sing(\"'Happy'\"))\n",
        "print(blu.dance())"
      ],
      "metadata": {
        "colab": {
          "base_uri": "https://localhost:8080/"
        },
        "id": "KFQVywzR3-5M",
        "outputId": "a534833b-cb45-4fa9-b4f4-2a81a2ea15f4"
      },
      "execution_count": null,
      "outputs": [
        {
          "output_type": "stream",
          "name": "stdout",
          "text": [
            "Blu sings 'Happy'\n",
            "Blu is now dancing\n"
          ]
        }
      ]
    },
    {
      "cell_type": "markdown",
      "source": [
        "# Python Inheritance"
      ],
      "metadata": {
        "id": "GRHjS6Tl4T3y"
      }
    },
    {
      "cell_type": "code",
      "source": [
        "# parent class\n",
        "class Bird:\n",
        "    \n",
        "    def __init__(self):\n",
        "        print(\"Bird is ready\")\n",
        "\n",
        "    def whoisThis(self):\n",
        "        print(\"Bird\")\n",
        "\n",
        "    def swim(self):\n",
        "        print(\"Swim faster\")\n",
        "\n",
        "# child class\n",
        "class Penguin(Bird):\n",
        "\n",
        "    def __init__(self):\n",
        "        # call super() function\n",
        "        super().__init__()\n",
        "        print(\"Penguin is ready\")\n",
        "\n",
        "    def whoisThis(self):\n",
        "        print(\"Penguin\")\n",
        "\n",
        "    def run(self):\n",
        "        print(\"Run faster\")\n",
        "\n",
        "peggy = Penguin()\n",
        "peggy.whoisThis()\n",
        "peggy.swim()\n",
        "peggy.run()"
      ],
      "metadata": {
        "colab": {
          "base_uri": "https://localhost:8080/"
        },
        "id": "A4du4rpR4Sxt",
        "outputId": "6cdb3000-16a1-4e12-f2ff-a07e224a5c43"
      },
      "execution_count": null,
      "outputs": [
        {
          "output_type": "stream",
          "name": "stdout",
          "text": [
            "Bird is ready\n",
            "Penguin is ready\n",
            "Penguin\n",
            "Swim faster\n",
            "Run faster\n"
          ]
        }
      ]
    },
    {
      "cell_type": "markdown",
      "source": [
        "# Python Decorators\n",
        "Change behavior of existing function."
      ],
      "metadata": {
        "id": "daD0_RNfKzxa"
      }
    },
    {
      "cell_type": "code",
      "source": [
        "def smart_divide(func):\n",
        "    def inner(num1, num2):\n",
        "        print(\"Going to divide\", num1, \"and\", num2)\n",
        "        if num2 == 0:\n",
        "            print(\"Whoops! cannot divide\")\n",
        "            return\n",
        "\n",
        "        return func(num1, num2)\n",
        "    return inner\n",
        "\n",
        "\n",
        "@smart_divide\n",
        "def divide(num1, num2):\n",
        "    print(num1/num2)\n",
        "\n",
        "divide(5,10)"
      ],
      "metadata": {
        "colab": {
          "base_uri": "https://localhost:8080/"
        },
        "id": "5FEzVEWkK37B",
        "outputId": "2f3f8e9a-4527-410f-b704-6b7cf72348cf"
      },
      "execution_count": 2,
      "outputs": [
        {
          "output_type": "stream",
          "name": "stdout",
          "text": [
            "Going to divide 5 and 10\n",
            "0.5\n"
          ]
        }
      ]
    }
  ]
}