{
  "nbformat": 4,
  "nbformat_minor": 0,
  "metadata": {
    "colab": {
      "provenance": []
    },
    "kernelspec": {
      "name": "python3",
      "display_name": "Python 3"
    },
    "language_info": {
      "name": "python"
    }
  },
  "cells": [
    {
      "cell_type": "markdown",
      "source": [
        "# **Python Datatypes**\n",
        "---\n",
        "\n",
        "\n"
      ],
      "metadata": {
        "id": "fZmsaLEFEBAC"
      }
    },
    {
      "cell_type": "markdown",
      "source": [
        "# Python Numbers\n",
        "\n",
        "> Integer - 'int'\n",
        "\n",
        "> Floating-point numbers - 'float'\n",
        "\n",
        "> Complex Numbers - 'complex'\n",
        "\n"
      ],
      "metadata": {
        "id": "zEiA4nqlEag-"
      }
    },
    {
      "cell_type": "code",
      "execution_count": 1,
      "metadata": {
        "id": "id-W_JLhDtmI"
      },
      "outputs": [],
      "source": [
        "number = 45 # int\n",
        "decimal = 834.55 # float\n",
        "complex_number = 5 + 3j # complex number"
      ]
    },
    {
      "cell_type": "code",
      "source": [
        "# type() function checks for the datatype of a variable\n",
        "\n",
        "print(type(number))\n",
        "print(type(decimal))\n",
        "print(type(complex_number))"
      ],
      "metadata": {
        "colab": {
          "base_uri": "https://localhost:8080/"
        },
        "id": "Lqt8vLVuI6Og",
        "outputId": "a2103abb-9a48-4f5a-ec87-16ca1bbeb7bf"
      },
      "execution_count": 2,
      "outputs": [
        {
          "output_type": "stream",
          "name": "stdout",
          "text": [
            "<class 'int'>\n",
            "<class 'float'>\n",
            "<class 'complex'>\n"
          ]
        }
      ]
    },
    {
      "cell_type": "code",
      "source": [
        "# Explicit Type conversions in python\n",
        "\n",
        "#convert from int to float:\n",
        "number1 = float(number)\n",
        "\n",
        "#convert from float to int:\n",
        "number2 = int(decimal)\n",
        "\n",
        "#convert from int to complex:\n",
        "number3 = complex(number)\n",
        "\n",
        "print(number1)\n",
        "print(number2)\n",
        "print(number3)\n",
        "\n",
        "print(type(number1))\n",
        "print(type(number2))\n",
        "print(type(number3))\n"
      ],
      "metadata": {
        "colab": {
          "base_uri": "https://localhost:8080/"
        },
        "id": "UcMzLCulJLB-",
        "outputId": "319b2951-9082-4875-8084-588102301665"
      },
      "execution_count": 4,
      "outputs": [
        {
          "output_type": "stream",
          "name": "stdout",
          "text": [
            "45.0\n",
            "834\n",
            "(45+0j)\n",
            "<class 'float'>\n",
            "<class 'int'>\n",
            "<class 'complex'>\n"
          ]
        }
      ]
    },
    {
      "cell_type": "code",
      "source": [
        "# Python math module\n",
        "\n",
        "import math\n",
        "\n",
        "print(math.pi) # prints pi value\n",
        "\n",
        "print(math.cos(math.pi)) # prints cosine of pi\n",
        "\n",
        "print(math.exp(10)) # prints exponential value of 10\n",
        "\n",
        "print(math.log10(1000)) # prints log of 1000\n",
        "\n",
        "print(math.sinh(1)) # prints sinh of 1\n",
        "\n",
        "print(math.factorial(6)) # prints factorial of 6"
      ],
      "metadata": {
        "colab": {
          "base_uri": "https://localhost:8080/"
        },
        "id": "VTNkyabkN2Ol",
        "outputId": "72d4befe-6505-4c13-f5f3-f6d9e8e05399"
      },
      "execution_count": 5,
      "outputs": [
        {
          "output_type": "stream",
          "name": "stdout",
          "text": [
            "3.141592653589793\n",
            "-1.0\n",
            "22026.465794806718\n",
            "3.0\n",
            "1.1752011936438014\n",
            "720\n"
          ]
        }
      ]
    },
    {
      "cell_type": "code",
      "source": [
        "# Python random module\n",
        "\n",
        "import random\n",
        "\n",
        "print(random.randrange(10, 20))\n",
        "\n",
        "x = ['a', 'b', 'c', 'd', 'e']\n",
        "\n",
        "# Get random choice\n",
        "print(random.choice(x))\n",
        "\n",
        "# Shuffle x\n",
        "random.shuffle(x)\n",
        "\n",
        "# Print the shuffled x\n",
        "print(x)\n",
        "\n",
        "# Print random element\n",
        "print(random.random())"
      ],
      "metadata": {
        "colab": {
          "base_uri": "https://localhost:8080/"
        },
        "id": "3E__sDuOOnbo",
        "outputId": "28a0e8a5-6bcd-4711-b1d4-9add1b1cf409"
      },
      "execution_count": 6,
      "outputs": [
        {
          "output_type": "stream",
          "name": "stdout",
          "text": [
            "19\n",
            "a\n",
            "['d', 'c', 'b', 'a', 'e']\n",
            "0.06683307884230627\n"
          ]
        }
      ]
    },
    {
      "cell_type": "markdown",
      "source": [
        "# Python List"
      ],
      "metadata": {
        "id": "F1LYJTFyPZ3o"
      }
    },
    {
      "cell_type": "code",
      "source": [
        "# list of integers\n",
        "list1 = [1, 2, 3]\n",
        "\n",
        "# empty list\n",
        "list2 = []\n",
        "\n",
        "# list with mixed data types\n",
        "list3 = [1, \"Hello\", 3.4]\n",
        "\n",
        "# nested list\n",
        "list4 = [\"mouse\", [8, 4, 6], ['a']]\n",
        "\n",
        "\n",
        "# Accessing elements using index\n",
        "\n",
        "print(list1[1]) \n",
        "print(list4[0]) \n",
        "print(list4[1][2])\n",
        "\n",
        "# Negative indexes\n",
        "print(list1[-1]) "
      ],
      "metadata": {
        "colab": {
          "base_uri": "https://localhost:8080/"
        },
        "id": "70zrwwhyPZsq",
        "outputId": "47c911c0-5b03-4e74-c182-a3f1572f29a1"
      },
      "execution_count": 10,
      "outputs": [
        {
          "output_type": "stream",
          "name": "stdout",
          "text": [
            "2\n",
            "mouse\n",
            "6\n",
            "3\n"
          ]
        }
      ]
    },
    {
      "cell_type": "code",
      "source": [
        "# List slicing in Python\n",
        "\n",
        "my_list = ['p','r','o','g','r','a','m']\n",
        "\n",
        "# elements from index 2 to index 4\n",
        "print(my_list[2:5])\n",
        "\n",
        "# elements from index 5 to end\n",
        "print(my_list[5:])\n",
        "\n",
        "# elements beginning to end\n",
        "print(my_list[:])\n"
      ],
      "metadata": {
        "colab": {
          "base_uri": "https://localhost:8080/"
        },
        "id": "W8GrJVfXSAWC",
        "outputId": "e03ec9bf-2ead-4172-cc30-ef0208a0f150"
      },
      "execution_count": 11,
      "outputs": [
        {
          "output_type": "stream",
          "name": "stdout",
          "text": [
            "['o', 'g', 'r']\n",
            "['a', 'm']\n",
            "['p', 'r', 'o', 'g', 'r', 'a', 'm']\n"
          ]
        }
      ]
    },
    {
      "cell_type": "code",
      "source": [
        "# Appending and Extending lists in Python\n",
        "\n",
        "odd_numbers = [1, 3, 5]\n",
        "\n",
        "# Append one element at the end\n",
        "odd_numbers.append(7)\n",
        "print(odd_numbers)\n",
        "\n",
        "# Add any number of elements at the end\n",
        "odd_numbers.extend([9, 11, 13])\n",
        "print(odd_numbers)\n",
        "\n",
        "# Insert at a given position\n",
        "odd_numbers.insert(1,2)\n",
        "print(odd_numbers)\n",
        "\n"
      ],
      "metadata": {
        "colab": {
          "base_uri": "https://localhost:8080/"
        },
        "id": "9t2-jzlDVk9u",
        "outputId": "fd5bbc8b-a004-492a-c336-9bf008f08ad5"
      },
      "execution_count": 13,
      "outputs": [
        {
          "output_type": "stream",
          "name": "stdout",
          "text": [
            "[1, 3, 5, 7]\n",
            "[1, 3, 5, 7, 9, 11, 13]\n",
            "[1, 2, 3, 5, 7, 9, 11, 13]\n"
          ]
        }
      ]
    },
    {
      "cell_type": "code",
      "source": [
        "# Deleting list elements\n",
        "\n",
        "# list before deletion\n",
        "print(odd_numbers)\n",
        "\n",
        "# Delete element at index 2\n",
        "del odd_numbers[1]\n",
        "\n",
        "# list after deletion\n",
        "print(odd_numbers)"
      ],
      "metadata": {
        "colab": {
          "base_uri": "https://localhost:8080/"
        },
        "id": "tX8Gv_rvWky3",
        "outputId": "e8eeda8a-f67c-4076-d08b-4161b0856d33"
      },
      "execution_count": 21,
      "outputs": [
        {
          "output_type": "stream",
          "name": "stdout",
          "text": [
            "[1, 2, 3, 5, 7, 9, 11, 13]\n",
            "[1, 3, 5, 7, 9, 11, 13]\n"
          ]
        }
      ]
    },
    {
      "cell_type": "code",
      "source": [
        "# List Comprehension\n",
        "'''\n",
        "List comprehension is an elegant and concise way to create a new list from an existing list in Python.\n",
        "\n",
        "Syntax :\n",
        "newlist = [expression for item in iterable if condition == True]\n",
        "\n",
        "'''\n",
        "\n",
        "\n",
        "pow2 = [2 ** x for x in range(10)]\n",
        "print(pow2)"
      ],
      "metadata": {
        "colab": {
          "base_uri": "https://localhost:8080/"
        },
        "id": "G2RzldMrYNan",
        "outputId": "92f4e22f-6631-427c-a8cd-6f240e23c565"
      },
      "execution_count": 22,
      "outputs": [
        {
          "output_type": "stream",
          "name": "stdout",
          "text": [
            "[1, 2, 4, 8, 16, 32, 64, 128, 256, 512]\n"
          ]
        }
      ]
    },
    {
      "cell_type": "markdown",
      "source": [
        "# Python Tuple\n",
        "\n",
        "\n",
        "> A tuple is a collection which is ordered and unchangeable.\n",
        "\n"
      ],
      "metadata": {
        "id": "ngknvko9Zb_j"
      }
    },
    {
      "cell_type": "code",
      "source": [
        "# Creating a tuple\n",
        "\n",
        "fruits = ('apple', 'banana', 'orange', 'cherry', 'melon')\n",
        "\n",
        "# NOT a tuple\n",
        "person = ('developer')\n",
        "print(type(person))\n",
        "\n",
        "# Creating tuple with single element\n",
        "person = ('developer',)\n",
        "print(type(person))"
      ],
      "metadata": {
        "colab": {
          "base_uri": "https://localhost:8080/"
        },
        "id": "rReAOGRFZju2",
        "outputId": "fbc221c8-2b29-4737-9441-ae4d7588e9da"
      },
      "execution_count": 25,
      "outputs": [
        {
          "output_type": "stream",
          "name": "stdout",
          "text": [
            "<class 'str'>\n",
            "<class 'tuple'>\n"
          ]
        }
      ]
    },
    {
      "cell_type": "code",
      "source": [
        "# Using tuple constructor to make a tuple\n",
        "\n",
        "thistuple = tuple((\"apple\", \"banana\", \"cherry\")) # note the double round-brackets\n",
        "print(thistuple)"
      ],
      "metadata": {
        "colab": {
          "base_uri": "https://localhost:8080/"
        },
        "id": "wKEOYWiqp5lF",
        "outputId": "cbaffb31-561b-419b-bab3-30ac311ca24b"
      },
      "execution_count": 24,
      "outputs": [
        {
          "output_type": "stream",
          "name": "stdout",
          "text": [
            "('apple', 'banana', 'cherry')\n"
          ]
        }
      ]
    },
    {
      "cell_type": "code",
      "source": [
        "# Access tuple items\n",
        "\n",
        "# Access elements using index\n",
        "print(fruits[1])\n",
        "\n",
        "# Negative indexing\n",
        "print(fruits[-2])\n",
        "\n",
        "# Range of indexes or slicing\n",
        "print(fruits[1:4])"
      ],
      "metadata": {
        "colab": {
          "base_uri": "https://localhost:8080/"
        },
        "id": "owdB3hWDqnOB",
        "outputId": "87e344d4-13f2-419c-9231-21debe2eb548"
      },
      "execution_count": 29,
      "outputs": [
        {
          "output_type": "stream",
          "name": "stdout",
          "text": [
            "banana\n",
            "cherry\n",
            "('banana', 'orange', 'cherry')\n"
          ]
        }
      ]
    },
    {
      "cell_type": "code",
      "source": [
        "# Unpack tuples\n",
        "\n",
        "persons = (\"teacher\", \"developer\", \"doctor\")\n",
        "\n",
        "school, company, hospital = persons\n",
        "\n",
        "print(school)\n",
        "print(company)\n",
        "print(hospital)"
      ],
      "metadata": {
        "colab": {
          "base_uri": "https://localhost:8080/"
        },
        "id": "NFKUxmzksbqw",
        "outputId": "cfb73e9f-4b10-470d-b66b-de32ae199c62"
      },
      "execution_count": 32,
      "outputs": [
        {
          "output_type": "stream",
          "name": "stdout",
          "text": [
            "teacher\n",
            "developer\n",
            "doctor\n"
          ]
        }
      ]
    },
    {
      "cell_type": "code",
      "source": [
        "# Changing tuple\n",
        "\n",
        "'''\n",
        "Tuples are immutable\n",
        "But there is a workaround. You can convert the tuple into a mutable type, change it, and convert the mutable back into a immutable tuple.\n",
        "'''\n",
        "\n",
        "fruits = (\"apple\", \"banana\", \"cherry\")\n",
        "fruits_list = list(fruits)\n",
        "fruits_list[1] = \"kiwi\"\n",
        "fruits = tuple(fruits_list)\n",
        "\n",
        "print(fruits)\n",
        "\n"
      ],
      "metadata": {
        "colab": {
          "base_uri": "https://localhost:8080/"
        },
        "id": "w8U3h3NDuV-G",
        "outputId": "626654dd-09a9-4b72-bfa5-15c00e4bdd2e"
      },
      "execution_count": 33,
      "outputs": [
        {
          "output_type": "stream",
          "name": "stdout",
          "text": [
            "('apple', 'kiwi', 'cherry')\n"
          ]
        }
      ]
    },
    {
      "cell_type": "code",
      "source": [
        "# Deleting tuples\n",
        "\n",
        "my_tuple = ('p', 'r', 'o', 'g', 'r', 'a', 'm', 'i', 'z')\n",
        "'''\n",
        "can't delete items\n",
        "TypeError: 'tuple' object doesn't support item deletion\n",
        "del my_tuple[3]'''\n",
        "\n",
        "# Can delete an entire tuple\n",
        "del my_tuple\n",
        "\n",
        "# NameError: name 'my_tuple' is not defined\n",
        "# print(my_tuple)"
      ],
      "metadata": {
        "id": "xpViuR_Qvxoc"
      },
      "execution_count": 35,
      "outputs": []
    },
    {
      "cell_type": "code",
      "source": [
        "# Tuple Methods\n",
        "'''\n",
        "count()\n",
        "index()\n",
        "'''\n",
        "\n",
        "my_tuple = ('a', 'p', 'p', 'l', 'e',)\n",
        "\n",
        "print(my_tuple.count('p'))  # Output: 2\n",
        "print(my_tuple.index('l'))  # Output: 3\n"
      ],
      "metadata": {
        "colab": {
          "base_uri": "https://localhost:8080/"
        },
        "id": "JLg-AfLewfrB",
        "outputId": "54b5d3b4-4fc5-4761-f57d-b62344283a9c"
      },
      "execution_count": 36,
      "outputs": [
        {
          "output_type": "stream",
          "name": "stdout",
          "text": [
            "2\n",
            "3\n"
          ]
        }
      ]
    },
    {
      "cell_type": "code",
      "source": [
        "# Tuple membership test\n",
        "\n",
        "# In operation\n",
        "print('a' in my_tuple)\n",
        "print('b' in my_tuple)\n",
        "\n",
        "# Not in operation\n",
        "print('g' not in my_tuple)"
      ],
      "metadata": {
        "colab": {
          "base_uri": "https://localhost:8080/"
        },
        "id": "G1aM2F5kxMAw",
        "outputId": "64f473dd-95af-4a31-ab0d-bee6b7977686"
      },
      "execution_count": 37,
      "outputs": [
        {
          "output_type": "stream",
          "name": "stdout",
          "text": [
            "True\n",
            "False\n",
            "True\n"
          ]
        }
      ]
    },
    {
      "cell_type": "code",
      "source": [
        "# Iterating through a tuple\n",
        "\n",
        "# Using a for loop to iterate through a tuple\n",
        "for name in ('Annanya', 'Vijay', 'Ria'):\n",
        "    print(\"Hello\", name)"
      ],
      "metadata": {
        "colab": {
          "base_uri": "https://localhost:8080/"
        },
        "id": "KSer5cEExXyi",
        "outputId": "b328d23d-feb5-4cdd-d28e-b8a6dd2206f3"
      },
      "execution_count": 38,
      "outputs": [
        {
          "output_type": "stream",
          "name": "stdout",
          "text": [
            "Hello Annanya\n",
            "Hello Vijay\n",
            "Hello Ria\n"
          ]
        }
      ]
    },
    {
      "cell_type": "markdown",
      "source": [
        "# **String**\n",
        "\n",
        "\n",
        "> A string is a sequence of characters.\n",
        "\n",
        "> Strings are immutable\n",
        "\n",
        "\n",
        "\n"
      ],
      "metadata": {
        "id": "ZTLGRFVrx_O0"
      }
    },
    {
      "cell_type": "code",
      "source": [
        "# Creating string\n",
        "\n",
        "my_string = \"Hello\"\n",
        "print(my_string)\n",
        "\n",
        "# triple quotes string can extend multiple lines\n",
        "my_string = \"\"\"Hello, welcome to\n",
        "the world of Python\"\"\"\n",
        "print(my_string)\n"
      ],
      "metadata": {
        "colab": {
          "base_uri": "https://localhost:8080/"
        },
        "id": "UjgKj4bkyGe8",
        "outputId": "21b14339-b396-4516-dd4e-00a7f07d1ac7"
      },
      "execution_count": 39,
      "outputs": [
        {
          "output_type": "stream",
          "name": "stdout",
          "text": [
            "Hello\n",
            "Hello, welcome to\n",
            "the world of Python\n"
          ]
        }
      ]
    },
    {
      "cell_type": "code",
      "source": [
        "#Accessing string characters in Python\n",
        "\n",
        "str = 'programmer'\n",
        "print('str = ', str)\n",
        "\n",
        "#first character\n",
        "print('str[0] = ', str[0])\n",
        "\n",
        "#last character\n",
        "print('str[-1] = ', str[-1])\n",
        "\n",
        "#slicing 2nd to 5th character\n",
        "print('str[1:5] = ', str[1:5])\n",
        "\n",
        "#slicing 6th to 2nd last character\n",
        "print('str[5:-2] = ', str[5:-2])"
      ],
      "metadata": {
        "colab": {
          "base_uri": "https://localhost:8080/"
        },
        "id": "os49W6U50aBC",
        "outputId": "c8752c04-2b45-4d17-dc11-41567421644f"
      },
      "execution_count": 40,
      "outputs": [
        {
          "output_type": "stream",
          "name": "stdout",
          "text": [
            "str =  programmer\n",
            "str[0] =  p\n",
            "str[-1] =  r\n",
            "str[1:5] =  rogr\n",
            "str[5:-2] =  amm\n"
          ]
        }
      ]
    },
    {
      "cell_type": "code",
      "source": [
        "# Modify String\n",
        "\n",
        "name = 'Joe Root'\n",
        "\n",
        "# Upper Case\n",
        "print(name.upper())\n",
        "\n",
        "# Lower Case\n",
        "print(name.lower())\n",
        "\n",
        "# Remove whitespace\n",
        "print(name.strip())\n",
        "\n",
        "# Replace string\n",
        "print(name.replace('J', 'H'))\n",
        "\n",
        "# Split String\n",
        "print(name.split(\" \"))\n"
      ],
      "metadata": {
        "colab": {
          "base_uri": "https://localhost:8080/"
        },
        "id": "C0GqzBL23VcV",
        "outputId": "4f749771-73a4-4af6-9a4d-e3949b6ad9d4"
      },
      "execution_count": 42,
      "outputs": [
        {
          "output_type": "stream",
          "name": "stdout",
          "text": [
            "JOE ROOT\n",
            "joe root\n",
            "Joe Root\n",
            "Hoe Root\n",
            "['Joe', 'Root']\n"
          ]
        }
      ]
    },
    {
      "cell_type": "code",
      "source": [
        "# Concatenation\n",
        "\n",
        "str1 = 'Hello'\n",
        "str2 ='World!'\n",
        "\n",
        "# using +\n",
        "print('str1 + str2 = ', str1 + str2)\n",
        "\n",
        "# using *\n",
        "print('str1 * 3 =', str1 * 3)\n",
        "\n",
        "# length of string\n",
        "print(\"Length of string is \" , len(str1))\n"
      ],
      "metadata": {
        "colab": {
          "base_uri": "https://localhost:8080/"
        },
        "id": "KV0MB2Ux5Bza",
        "outputId": "df2c7c26-0db6-4f2c-91e7-8d4edeedeaf3"
      },
      "execution_count": 49,
      "outputs": [
        {
          "output_type": "stream",
          "name": "stdout",
          "text": [
            "str1 + str2 =  HelloWorld!\n",
            "str1 * 3 = HelloHelloHello\n",
            "Length of string is  5\n"
          ]
        }
      ]
    },
    {
      "cell_type": "code",
      "source": [
        "# Format string using format() method\n",
        "\n",
        "# default(implicit) order\n",
        "default_order = \"{}, {} and {}\".format('John','Bill','Sean')\n",
        "print('\\n--- Default Order ---')\n",
        "print(default_order)\n",
        "\n",
        "# order using positional argument\n",
        "positional_order = \"{1}, {0} and {2}\".format('John','Bill','Sean')\n",
        "print('\\n--- Positional Order ---')\n",
        "print(positional_order)\n",
        "\n",
        "# order using keyword argument\n",
        "keyword_order = \"{s}, {b} and {j}\".format(j='John',b='Bill',s='Sean')\n",
        "print('\\n--- Keyword Order ---')\n",
        "print(keyword_order)\n",
        "\n",
        "\n"
      ],
      "metadata": {
        "colab": {
          "base_uri": "https://localhost:8080/"
        },
        "id": "mdVUqjov5rsW",
        "outputId": "ea730bec-fea8-48fb-d092-2088b0c0eab2"
      },
      "execution_count": 50,
      "outputs": [
        {
          "output_type": "stream",
          "name": "stdout",
          "text": [
            "\n",
            "--- Default Order ---\n",
            "John, Bill and Sean\n",
            "\n",
            "--- Positional Order ---\n",
            "Bill, John and Sean\n",
            "\n",
            "--- Keyword Order ---\n",
            "Sean, Bill and John\n"
          ]
        }
      ]
    },
    {
      "cell_type": "markdown",
      "source": [
        "# Set\n",
        "\n",
        "\n",
        "> A set is a collection which is unordered, unchangeable*, and unindexed.\n",
        "\n",
        "\n",
        "\n"
      ],
      "metadata": {
        "id": "1h8puaSB7dVd"
      }
    },
    {
      "cell_type": "code",
      "source": [
        "# Different types of sets in Python\n",
        "\n",
        "# set of integers\n",
        "set1 = {1, 2, 3}\n",
        "print(set1)\n",
        "\n",
        "# set of mixed datatypes\n",
        "set2 = {1.0, \"Hello\", (1, 2, 3)}\n",
        "print(set2)\n",
        "\n",
        "# set cannot have duplicates\n",
        "set3 = {1, 2, 3, 4, 3, 2}\n",
        "print(set3)\n",
        "\n",
        "# we can make set from a list\n",
        "set4 = set([1, 2, 3, 2])\n",
        "print(set4)\n",
        "\n",
        "# set CANNOT have mutable items\n",
        "# here [3, 4] is a mutable list\n",
        "# this will cause an error.\n",
        "\n",
        "# my_set = {1, 2, [3, 4]}"
      ],
      "metadata": {
        "colab": {
          "base_uri": "https://localhost:8080/"
        },
        "id": "HFdQshVM7iyJ",
        "outputId": "ad5470a9-cbf6-4ae9-e79a-d03f1b1b2941"
      },
      "execution_count": 58,
      "outputs": [
        {
          "output_type": "stream",
          "name": "stdout",
          "text": [
            "{1, 2, 3}\n",
            "{1.0, 'Hello', (1, 2, 3)}\n",
            "{1, 2, 3, 4}\n",
            "{1, 2, 3}\n"
          ]
        }
      ]
    },
    {
      "cell_type": "code",
      "source": [
        "# add element in a set\n",
        "\n",
        "fruits = {\"kiwi\", \"orange\", \"cherry\"}\n",
        "tropical_fruits = {\"pineapple\", \"mango\", \"papaya\"}\n",
        "\n",
        "# Add an element in a set\n",
        "fruits.add(\"grapes\")\n",
        "print(fruits)\n",
        "\n",
        "# Add set using update()\n",
        "fruits.update(tropical_fruits)\n",
        "print(fruits)"
      ],
      "metadata": {
        "colab": {
          "base_uri": "https://localhost:8080/"
        },
        "id": "v5knoaF59AyC",
        "outputId": "09055aa9-ede2-47b6-9080-511fd4233d5b"
      },
      "execution_count": 59,
      "outputs": [
        {
          "output_type": "stream",
          "name": "stdout",
          "text": [
            "{'cherry', 'kiwi', 'orange', 'grapes'}\n",
            "{'cherry', 'kiwi', 'orange', 'pineapple', 'papaya', 'mango', 'grapes'}\n"
          ]
        }
      ]
    },
    {
      "cell_type": "code",
      "source": [
        "# Remove set items\n",
        "\n",
        "'''\n",
        "remove() \n",
        "If the item to remove does not exist, remove() will raise an error.\n",
        "'''\n",
        "fruits.remove(\"orange\")\n",
        "print(fruits)\n",
        "\n",
        "'''\n",
        "discard()\n",
        "If the item to remove does not exist, discard() will NOT raise an error.\n",
        "'''\n",
        "fruits.discard(\"cherry\")\n",
        "print(fruits)\n",
        "\n",
        "#clear() : Empties the set\n",
        "# fruits.clear()\n",
        "\n",
        "# del keyword : deletes the set completely\n",
        "# del fruits"
      ],
      "metadata": {
        "colab": {
          "base_uri": "https://localhost:8080/"
        },
        "id": "dvgR2eVeAqmV",
        "outputId": "814efa3d-ecb0-4a01-9e4f-bf7e1c59d69c"
      },
      "execution_count": 63,
      "outputs": [
        {
          "output_type": "stream",
          "name": "stdout",
          "text": [
            "{'kiwi', 'pineapple', 'papaya', 'mango', 'grapes'}\n",
            "{'kiwi', 'pineapple', 'papaya', 'mango', 'grapes'}\n"
          ]
        }
      ]
    },
    {
      "cell_type": "code",
      "source": [
        "# Python Set operations\n",
        "\n",
        "A = {1, 2, 3, 4, 5}\n",
        "B = {4, 5, 6, 7, 8}\n",
        "\n",
        "# UNION\n",
        "\n",
        "# using | operator\n",
        "print(A | B)\n",
        "\n",
        "# using union() method\n",
        "A.union(B)\n"
      ],
      "metadata": {
        "colab": {
          "base_uri": "https://localhost:8080/"
        },
        "id": "43815zi9CUtK",
        "outputId": "fb9d9f74-dffb-474d-bb9b-8b31b6c20e9f"
      },
      "execution_count": 64,
      "outputs": [
        {
          "output_type": "stream",
          "name": "stdout",
          "text": [
            "{1, 2, 3, 4, 5, 6, 7, 8}\n"
          ]
        },
        {
          "output_type": "execute_result",
          "data": {
            "text/plain": [
              "{1, 2, 3, 4, 5, 6, 7, 8}"
            ]
          },
          "metadata": {},
          "execution_count": 64
        }
      ]
    },
    {
      "cell_type": "code",
      "source": [
        "# INTERSECTION\n",
        "\n",
        "# Using & operator\n",
        "print( A & B )\n",
        "\n",
        "# Using intersection() method\n",
        "A.intersection(B)"
      ],
      "metadata": {
        "colab": {
          "base_uri": "https://localhost:8080/"
        },
        "id": "HBdcxL1ODfjQ",
        "outputId": "a167c2cf-5dd9-4f7d-884c-63cc4583e91e"
      },
      "execution_count": 66,
      "outputs": [
        {
          "output_type": "stream",
          "name": "stdout",
          "text": [
            "{4, 5}\n"
          ]
        },
        {
          "output_type": "execute_result",
          "data": {
            "text/plain": [
              "{4, 5}"
            ]
          },
          "metadata": {},
          "execution_count": 66
        }
      ]
    },
    {
      "cell_type": "code",
      "source": [
        "# SET DIFFERENCE\n",
        "\n",
        "# using - operator\n",
        "print(A-B)\n",
        "\n",
        "#using difference() method\n",
        "A.difference(B)"
      ],
      "metadata": {
        "colab": {
          "base_uri": "https://localhost:8080/"
        },
        "id": "W_PCMERDEV52",
        "outputId": "f6358632-e975-44e0-aa15-40a565c3ceb1"
      },
      "execution_count": 68,
      "outputs": [
        {
          "output_type": "stream",
          "name": "stdout",
          "text": [
            "{1, 2, 3}\n"
          ]
        },
        {
          "output_type": "execute_result",
          "data": {
            "text/plain": [
              "{1, 2, 3}"
            ]
          },
          "metadata": {},
          "execution_count": 68
        }
      ]
    },
    {
      "cell_type": "code",
      "source": [
        "'''\n",
        "SYMMETRIC DIFFERENCE\n",
        "Symmetric Difference of A and B is a set of elements in A and B but not in both (excluding the intersection).\n",
        "'''\n",
        "\n",
        "# Using ^ operator\n",
        "print(A ^ B)\n",
        "\n",
        "# Using symmetric_difference() method\n",
        "A.symmetric_difference(B)"
      ],
      "metadata": {
        "colab": {
          "base_uri": "https://localhost:8080/"
        },
        "id": "VqGHu-x_FVzX",
        "outputId": "eaf6f345-52cb-4ef7-cf2f-905920544b63"
      },
      "execution_count": 69,
      "outputs": [
        {
          "output_type": "stream",
          "name": "stdout",
          "text": [
            "{1, 2, 3, 6, 7, 8}\n"
          ]
        },
        {
          "output_type": "execute_result",
          "data": {
            "text/plain": [
              "{1, 2, 3, 6, 7, 8}"
            ]
          },
          "metadata": {},
          "execution_count": 69
        }
      ]
    },
    {
      "cell_type": "markdown",
      "source": [
        "# Dictionary\n",
        "\n",
        "\n",
        "> Dictionaries are used to store data values in key:value pairs.\n",
        "\n",
        "> A dictionary is a collection which is ordered*, changeable and do not allow duplicates.\n",
        "\n",
        "\n",
        "\n",
        "\n",
        "\n"
      ],
      "metadata": {
        "id": "Y2sCYvv5G-8M"
      }
    },
    {
      "cell_type": "code",
      "source": [
        "# Creating a dictionary\n",
        "\n",
        "cars = {\n",
        "  \"brand\": \"Ford\",\n",
        "  \"model\": \"Mustang\",\n",
        "  \"year\": 1964\n",
        "}\n",
        "\n",
        "print(cars)\n",
        "\n",
        "# printing values using key\n",
        "print(cars['brand'])\n",
        "print(cars['model'])\n",
        "print(cars['year'])\n",
        "\n",
        "# printing values using get() method\n",
        "print(cars.get('model'))\n"
      ],
      "metadata": {
        "colab": {
          "base_uri": "https://localhost:8080/"
        },
        "id": "0NTX8gSsG96L",
        "outputId": "cc5722a3-9c1a-4fcb-fc08-76c59a1dca26"
      },
      "execution_count": 71,
      "outputs": [
        {
          "output_type": "stream",
          "name": "stdout",
          "text": [
            "{'brand': 'Ford', 'model': 'Mustang', 'year': 1964}\n",
            "Ford\n",
            "Mustang\n",
            "1964\n",
            "Mustang\n"
          ]
        }
      ]
    },
    {
      "cell_type": "code",
      "source": [
        "# Getting all keys and values\n",
        "\n",
        "# keys() method will return list of all keys\n",
        "print(cars.keys())\n",
        "\n",
        "# values() method will return list of all values\n",
        "print(cars.values())"
      ],
      "metadata": {
        "colab": {
          "base_uri": "https://localhost:8080/"
        },
        "id": "vT11-zA5IA91",
        "outputId": "6206ab7f-8781-47cd-eaa2-151b27d239c3"
      },
      "execution_count": 72,
      "outputs": [
        {
          "output_type": "stream",
          "name": "stdout",
          "text": [
            "dict_keys(['brand', 'model', 'year'])\n",
            "dict_values(['Ford', 'Mustang', 1964])\n"
          ]
        }
      ]
    },
    {
      "cell_type": "code",
      "source": [
        "# Change values in a dictionary\n",
        "\n",
        "cars[\"year\"] = 2008\n",
        "\n",
        "# update() method\n",
        "cars.update({\"year\": 2020})\n"
      ],
      "metadata": {
        "id": "_0CwAOVII636"
      },
      "execution_count": null,
      "outputs": []
    },
    {
      "cell_type": "code",
      "source": [
        "# Removing elements from a dictionary\n",
        "\n",
        "# create a dictionary\n",
        "squares = {1: 1, 2: 4, 3: 9, 4: 16, 5: 25}\n",
        "\n",
        "# remove a particular item, returns its value\n",
        "print(squares.pop(4))\n",
        "\n",
        "print(squares)\n",
        "\n",
        "# remove an arbitrary item, return (key,value)\n",
        "print(squares.popitem())\n",
        "\n",
        "print(squares)\n",
        "\n",
        "# remove all items\n",
        "squares.clear()\n",
        "\n",
        "print(squares)\n",
        "\n",
        "# delete the dictionary itself\n",
        "del squares\n",
        "\n",
        "# Throws Error\n",
        "# print(squares)"
      ],
      "metadata": {
        "colab": {
          "base_uri": "https://localhost:8080/"
        },
        "id": "99PCqEfqJ-bU",
        "outputId": "e0ac98f2-9fdd-4a82-ae19-5c6f3954bfbb"
      },
      "execution_count": 73,
      "outputs": [
        {
          "output_type": "stream",
          "name": "stdout",
          "text": [
            "16\n",
            "{1: 1, 2: 4, 3: 9, 5: 25}\n",
            "(5, 25)\n",
            "{1: 1, 2: 4, 3: 9}\n",
            "{}\n"
          ]
        }
      ]
    },
    {
      "cell_type": "code",
      "source": [
        "# Iterating through a Dictionary\n",
        "\n",
        "squares = {1: 1, 3: 9, 5: 25, 7: 49, 9: 81}\n",
        "for number in squares:\n",
        "    print(squares[number])"
      ],
      "metadata": {
        "colab": {
          "base_uri": "https://localhost:8080/"
        },
        "id": "MBHUd6tGKcjE",
        "outputId": "ab84d6dc-7de9-415a-9dde-05322f4c0052"
      },
      "execution_count": 75,
      "outputs": [
        {
          "output_type": "stream",
          "name": "stdout",
          "text": [
            "1\n",
            "9\n",
            "25\n",
            "49\n",
            "81\n"
          ]
        }
      ]
    }
  ]
}